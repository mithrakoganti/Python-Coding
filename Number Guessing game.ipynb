{
 "cells": [
  {
   "cell_type": "code",
   "execution_count": 1,
   "id": "ba091a67",
   "metadata": {},
   "outputs": [
    {
     "name": "stdout",
     "output_type": "stream",
     "text": [
      "Welcome to the Number Guessing Game!\n",
      "I'm thinking of a number between 1 and 100.\n",
      "Choose a difficulty. Type 'easy' or 'hard':hard\n",
      "You have 5 attempts remaining to guess the number.\n",
      "Make a guess:54\n",
      "Too high.\n",
      "Guess again.\n",
      "You have 4 attempts remaining to guess the number.\n",
      "Make a guess:32\n",
      "Too high.\n",
      "Guess again.\n",
      "You have 3 attempts remaining to guess the number.\n",
      "Make a guess:12\n",
      "Too high.\n",
      "Guess again.\n",
      "You have 2 attempts remaining to guess the number.\n",
      "Make a guess:7\n",
      "You guessed it right. Good job!!\n"
     ]
    }
   ],
   "source": [
    "import random\n",
    "print(\"Welcome to the Number Guessing Game!\")\n",
    "print(\"I'm thinking of a number between 1 and 100.\")\n",
    "user_input = str(input(\"Choose a difficulty. Type 'easy' or 'hard':\"))\n",
    "computer_chosen_number = random.randint(1, 100)\n",
    "\n",
    "\n",
    "def guess_the_number():\n",
    "    is_still_guessing = True\n",
    "    if user_input == \"easy\":\n",
    "        number_of_guess_attempts = 10\n",
    "    else:\n",
    "        number_of_guess_attempts = 5\n",
    "    while is_still_guessing and number_of_guess_attempts != 0:\n",
    "        print(\n",
    "            f\"You have {number_of_guess_attempts} attempts remaining to guess the number.\"\n",
    "        )\n",
    "        user_guessed_number = int(input(\"Make a guess:\"))\n",
    "        if user_guessed_number > computer_chosen_number:\n",
    "            number_of_guess_attempts -= 1\n",
    "            print(\"Too high.\")\n",
    "            if number_of_guess_attempts == 0:\n",
    "                print(\"You've run out of guesses, you lose.\")\n",
    "            else:\n",
    "                print(\"Guess again.\")\n",
    "        elif user_guessed_number < computer_chosen_number:\n",
    "            number_of_guess_attempts -= 1\n",
    "            print(\"Too low.\")\n",
    "            if number_of_guess_attempts == 0:\n",
    "                print(\"You've run out of guesses, you lose.\")\n",
    "            else:\n",
    "                print(\"Guess again.\")\n",
    "        else:\n",
    "            print(\"You guessed it right. Good job!!\")\n",
    "            is_still_guessing = False\n",
    "\n",
    "\n",
    "guess_the_number()\n"
   ]
  },
  {
   "cell_type": "code",
   "execution_count": null,
   "id": "512a9af2",
   "metadata": {},
   "outputs": [],
   "source": []
  }
 ],
 "metadata": {
  "kernelspec": {
   "display_name": "Python 3 (ipykernel)",
   "language": "python",
   "name": "python3"
  },
  "language_info": {
   "codemirror_mode": {
    "name": "ipython",
    "version": 3
   },
   "file_extension": ".py",
   "mimetype": "text/x-python",
   "name": "python",
   "nbconvert_exporter": "python",
   "pygments_lexer": "ipython3",
   "version": "3.10.7"
  }
 },
 "nbformat": 4,
 "nbformat_minor": 5
}
