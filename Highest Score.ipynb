{
 "cells": [
  {
   "cell_type": "code",
   "execution_count": null,
   "id": "d090c806",
   "metadata": {},
   "outputs": [],
   "source": [
    "student_scores = input(\"Input a list of student scores \").split()\n",
    "for n in range(0, len(student_scores)):\n",
    "  student_scores[n] = int(student_scores[n])\n",
    "print(student_scores)\n",
    "max_score = 0\n",
    "for score in range (0, len(student_scores)):\n",
    "    if  student_scores[score] > max_score:\n",
    "        max_score = student_scores[score]\n",
    "\n",
    "print(f\"The highest score in the class is: {max_score}\")"
   ]
  }
 ],
 "metadata": {
  "kernelspec": {
   "display_name": "Python 3 (ipykernel)",
   "language": "python",
   "name": "python3"
  },
  "language_info": {
   "codemirror_mode": {
    "name": "ipython",
    "version": 3
   },
   "file_extension": ".py",
   "mimetype": "text/x-python",
   "name": "python",
   "nbconvert_exporter": "python",
   "pygments_lexer": "ipython3",
   "version": "3.10.7"
  }
 },
 "nbformat": 4,
 "nbformat_minor": 5
}
