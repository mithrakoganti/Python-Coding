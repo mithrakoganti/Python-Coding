{
 "cells": [
  {
   "cell_type": "code",
   "execution_count": null,
   "id": "69750558",
   "metadata": {},
   "outputs": [],
   "source": [
    "student_scores = {\n",
    "  \"Harry\": 81,\n",
    "  \"Ron\": 78,\n",
    "  \"Hermione\": 99, \n",
    "  \"Draco\": 74,\n",
    "  \"Neville\": 62,\n",
    "}\n",
    "student_grades = {}\n",
    "\n",
    "for k in student_scores:\n",
    "    if student_scores[k] > 90:\n",
    "        student_grades[k] = \"Outstanding\"\n",
    "    elif student_scores[k] > 80:\n",
    "        student_grades[k] = \"Exceeds Expectations\"\n",
    "    elif student_scores[k] > 70:\n",
    "        student_grades[k] = \"Acceptable\"\n",
    "    else:\n",
    "        student_grades[k] = \"Fail\"\n",
    "\n",
    "print(student_grades)"
   ]
  }
 ],
 "metadata": {
  "kernelspec": {
   "display_name": "Python 3 (ipykernel)",
   "language": "python",
   "name": "python3"
  },
  "language_info": {
   "codemirror_mode": {
    "name": "ipython",
    "version": 3
   },
   "file_extension": ".py",
   "mimetype": "text/x-python",
   "name": "python",
   "nbconvert_exporter": "python",
   "pygments_lexer": "ipython3",
   "version": "3.10.7"
  }
 },
 "nbformat": 4,
 "nbformat_minor": 5
}
