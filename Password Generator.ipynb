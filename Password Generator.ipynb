{
 "cells": [
  {
   "cell_type": "code",
   "execution_count": null,
   "id": "a0a0b315",
   "metadata": {},
   "outputs": [],
   "source": [
    "import random\n",
    "letters = ['a', 'b', 'c', 'd', 'e', 'f', 'g', 'h', 'i', 'j', 'k', 'l', 'm', 'n', 'o', 'p', 'q', 'r', 's', 't', 'u', 'v', 'w', 'x', 'y', 'z', 'A', 'B', 'C', 'D', 'E', 'F', 'G', 'H', 'I', 'J', 'K', 'L', 'M', 'N', 'O', 'P', 'Q', 'R', 'S', 'T', 'U', 'V', 'W', 'X', 'Y', 'Z']\n",
    "numbers = ['0', '1', '2', '3', '4', '5', '6', '7', '8', '9']\n",
    "symbols = ['!', '#', '$', '%', '&', '(', ')', '*', '+']\n",
    "\n",
    "print(\"Welcome to the PyPassword Generator!\")\n",
    "nr_letters= int(input(\"How many letters would you like in your password?\\n\")) \n",
    "nr_symbols = int(input(f\"How many symbols would you like?\\n\"))\n",
    "nr_numbers = int(input(f\"How many numbers would you like?\\n\"))\n",
    "\n",
    "#Eazy Level - Order not randomised:\n",
    "#e.g. 4 letter, 2 symbol, 2 number = JduE&!91\n",
    "password = \"\"\n",
    "for letter in range (1,nr_letters + 1):\n",
    "  password += random.choice(letters)\n",
    "#print(rand_letter_part)\n",
    "for symbol in range (1,nr_symbols + 1):\n",
    "  password += random.choice(symbols)\n",
    "#print(rand_symbol_part)\n",
    "for number in range (1,nr_numbers + 1):\n",
    "  password += random.choice(numbers)\n",
    "print(password)\n",
    "\n",
    "#print(rand_number_part)\n",
    "#print(f\"Your password is: {rand_letter_part}{rand_symbol_part}{rand_number_part}\")\n",
    "#Hard Level - Order of characters randomised:\n",
    "#e.g. 4 letter, 2 symbol, 2 number = g^2jk8&P\n",
    "\n",
    "password_list = []\n",
    "for letter in range (1,nr_letters + 1):\n",
    "  password_list.append(random.choice(letters))\n",
    "#print(rand_letter_part)\n",
    "for symbol in range (1,nr_symbols + 1):\n",
    "  password_list.append(random.choice(symbols))\n",
    "#print(rand_symbol_part)\n",
    "for number in range (1,nr_numbers + 1):\n",
    "  password_list.append(random.choice(numbers))\n",
    "random.shuffle(password_list)\n",
    "\n",
    "password = \"\"\n",
    "for pl in password_list:\n",
    "  password += pl\n",
    "print(password)"
   ]
  }
 ],
 "metadata": {
  "kernelspec": {
   "display_name": "Python 3 (ipykernel)",
   "language": "python",
   "name": "python3"
  },
  "language_info": {
   "codemirror_mode": {
    "name": "ipython",
    "version": 3
   },
   "file_extension": ".py",
   "mimetype": "text/x-python",
   "name": "python",
   "nbconvert_exporter": "python",
   "pygments_lexer": "ipython3",
   "version": "3.10.7"
  }
 },
 "nbformat": 4,
 "nbformat_minor": 5
}
