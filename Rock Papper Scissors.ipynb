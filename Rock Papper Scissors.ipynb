{
 "cells": [
  {
   "cell_type": "code",
   "execution_count": 1,
   "id": "eb712e09",
   "metadata": {},
   "outputs": [
    {
     "name": "stdout",
     "output_type": "stream",
     "text": [
      "Please enter your game choice -  0 for rock, 1 for paper and 2 for scissors:1\n",
      "Your choice is: \n",
      "    _______\n",
      "---'   ____)____\n",
      "          ______)\n",
      "          _______)\n",
      "         _______)\n",
      "---.__________)\n",
      "\n",
      "Computer's choice is: \n",
      "    _______\n",
      "---'   ____)____\n",
      "          ______)\n",
      "       __________)\n",
      "      (____)\n",
      "---.__(___)\n",
      "\n",
      "You have lost as your paper has been cut by computer's scissors\n"
     ]
    }
   ],
   "source": [
    "\n",
    "rock = '''\n",
    "    _______\n",
    "---'   ____)\n",
    "      (_____)\n",
    "      (_____)\n",
    "      (____)\n",
    "---.__(___)\n",
    "'''\n",
    "\n",
    "paper = '''\n",
    "    _______\n",
    "---'   ____)____\n",
    "          ______)\n",
    "          _______)\n",
    "         _______)\n",
    "---.__________)\n",
    "'''\n",
    "\n",
    "scissors = '''\n",
    "    _______\n",
    "---'   ____)____\n",
    "          ______)\n",
    "       __________)\n",
    "      (____)\n",
    "---.__(___)\n",
    "'''\n",
    "\n",
    "import random\n",
    "game_choices = [rock,paper,scissors]\n",
    "your_choice = int(input(\"Please enter your game choice -  0 for rock, 1 for paper and 2 for scissors:\"))\n",
    "if your_choice > 2:\n",
    "    print(\"Invalid entry. You have lost the game\")\n",
    "else:\n",
    "    print(f\"Your choice is: {game_choices[your_choice]}\")\n",
    "    computer_choice = random.randint(0,2)\n",
    "    print(f\"Computer's choice is: {game_choices[computer_choice]}\")\n",
    "    if your_choice == 0 and computer_choice == 1:\n",
    "        print(\"You have lost the game as computer's paper has closed your rock !!\")\n",
    "    elif your_choice == 0 and computer_choice == 2:\n",
    "        print(\"You have won the game as your rock broke the computer's scissors\")\n",
    "    elif your_choice == 1 and computer_choice == 0:\n",
    "        print(\"You have won as your paper has closed computer's rock\")\n",
    "    elif your_choice == 1 and computer_choice == 2:\n",
    "        print(\"You have lost as your paper has been cut by computer's scissors\")\n",
    "    elif your_choice == 2 and computer_choice == 0:\n",
    "        print(\"You have lost as computer's rock has broke your scissors\")\n",
    "    elif your_choice == 2 and computer_choice == 1:\n",
    "        print(\"You have won as computer's paper has been cut by your scissors\")\n",
    "    else:\n",
    "        print(\"It's a draw match!!\")"
   ]
  },
  {
   "cell_type": "code",
   "execution_count": null,
   "id": "e365f96c",
   "metadata": {},
   "outputs": [],
   "source": []
  }
 ],
 "metadata": {
  "kernelspec": {
   "display_name": "Python 3 (ipykernel)",
   "language": "python",
   "name": "python3"
  },
  "language_info": {
   "codemirror_mode": {
    "name": "ipython",
    "version": 3
   },
   "file_extension": ".py",
   "mimetype": "text/x-python",
   "name": "python",
   "nbconvert_exporter": "python",
   "pygments_lexer": "ipython3",
   "version": "3.10.7"
  }
 },
 "nbformat": 4,
 "nbformat_minor": 5
}
