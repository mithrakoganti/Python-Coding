{
 "cells": [
  {
   "cell_type": "code",
   "execution_count": null,
   "id": "70936e21",
   "metadata": {},
   "outputs": [],
   "source": [
    "import random\n",
    "# Split string method\n",
    "names_string = input(\"Give me everybody's names, separated by a comma. \")\n",
    "names = names_string.split(\", \")\n",
    "total_count = len(names)\n",
    "random_num = random.randint(0,total_count-1)\n",
    "person_who_will_pay = names[random_num]\n",
    "print(f\"{person_who_will_pay} is going to buy the meal today!\")\n"
   ]
  }
 ],
 "metadata": {
  "kernelspec": {
   "display_name": "Python 3 (ipykernel)",
   "language": "python",
   "name": "python3"
  },
  "language_info": {
   "codemirror_mode": {
    "name": "ipython",
    "version": 3
   },
   "file_extension": ".py",
   "mimetype": "text/x-python",
   "name": "python",
   "nbconvert_exporter": "python",
   "pygments_lexer": "ipython3",
   "version": "3.10.7"
  }
 },
 "nbformat": 4,
 "nbformat_minor": 5
}
