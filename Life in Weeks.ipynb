{
 "cells": [
  {
   "cell_type": "code",
   "execution_count": 1,
   "id": "4ab70519",
   "metadata": {},
   "outputs": [
    {
     "name": "stdout",
     "output_type": "stream",
     "text": [
      "What is your current age? 31\n",
      "You have 21535 days, 3068 weeks, and 708 months left.\n"
     ]
    }
   ],
   "source": [
    "age = input(\"What is your current age? \")\n",
    "\n",
    "int_age = int(age)\n",
    "time_left = 90 - int_age\n",
    "print(f\"You have {time_left * 365} days, {time_left * 52} weeks, and {time_left * 12} months left.\")"
   ]
  },
  {
   "cell_type": "code",
   "execution_count": null,
   "id": "f414b652",
   "metadata": {},
   "outputs": [],
   "source": []
  }
 ],
 "metadata": {
  "kernelspec": {
   "display_name": "Python 3 (ipykernel)",
   "language": "python",
   "name": "python3"
  },
  "language_info": {
   "codemirror_mode": {
    "name": "ipython",
    "version": 3
   },
   "file_extension": ".py",
   "mimetype": "text/x-python",
   "name": "python",
   "nbconvert_exporter": "python",
   "pygments_lexer": "ipython3",
   "version": "3.10.7"
  }
 },
 "nbformat": 4,
 "nbformat_minor": 5
}
