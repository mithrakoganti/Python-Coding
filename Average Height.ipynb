{
 "cells": [
  {
   "cell_type": "code",
   "execution_count": null,
   "id": "10a4c82e",
   "metadata": {},
   "outputs": [],
   "source": [
    "student_heights = input(\"Input a list of student heights \").split()\n",
    "for n in range(0, len(student_heights)):\n",
    "  student_heights[n] = int(student_heights[n])\n",
    "sum_of_heights = 0\n",
    "for height in student_heights:\n",
    "    sum_of_heights = height + sum_of_heights\n",
    "average_height = round(sum_of_heights/len(student_heights))\n",
    "print(average_height)"
   ]
  }
 ],
 "metadata": {
  "kernelspec": {
   "display_name": "Python 3 (ipykernel)",
   "language": "python",
   "name": "python3"
  },
  "language_info": {
   "codemirror_mode": {
    "name": "ipython",
    "version": 3
   },
   "file_extension": ".py",
   "mimetype": "text/x-python",
   "name": "python",
   "nbconvert_exporter": "python",
   "pygments_lexer": "ipython3",
   "version": "3.10.7"
  }
 },
 "nbformat": 4,
 "nbformat_minor": 5
}
