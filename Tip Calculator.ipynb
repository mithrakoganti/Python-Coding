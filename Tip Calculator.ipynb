{
 "cells": [
  {
   "cell_type": "code",
   "execution_count": 1,
   "id": "1e74a0c0",
   "metadata": {},
   "outputs": [
    {
     "name": "stdout",
     "output_type": "stream",
     "text": [
      "Welcome to the tip calculator.\n",
      "What was the total bill?139\n",
      "What percentage tip would you like to give? 10, 12 or 15?12\n",
      "How many people to split the bill?3\n",
      "Each person should pay $51.89\n"
     ]
    }
   ],
   "source": [
    "print(\"Welcome to the tip calculator.\")\n",
    "total_bill = float(input(\"What was the total bill?\"))\n",
    "tip_percentage = int(input(\"What percentage tip would you like to give? 10, 12 or 15?\"))\n",
    "num_people = int(input(\"How many people to split the bill?\"))\n",
    "total_tip = tip_percentage/100 * total_bill\n",
    "final_bill = total_bill + total_tip\n",
    "final_bill_per_person = round(final_bill/num_people, 2)\n",
    "print(f\"Each person should pay ${final_bill_per_person}\")"
   ]
  },
  {
   "cell_type": "code",
   "execution_count": null,
   "id": "37bbb935",
   "metadata": {},
   "outputs": [],
   "source": []
  }
 ],
 "metadata": {
  "kernelspec": {
   "display_name": "Python 3 (ipykernel)",
   "language": "python",
   "name": "python3"
  },
  "language_info": {
   "codemirror_mode": {
    "name": "ipython",
    "version": 3
   },
   "file_extension": ".py",
   "mimetype": "text/x-python",
   "name": "python",
   "nbconvert_exporter": "python",
   "pygments_lexer": "ipython3",
   "version": "3.10.7"
  }
 },
 "nbformat": 4,
 "nbformat_minor": 5
}
