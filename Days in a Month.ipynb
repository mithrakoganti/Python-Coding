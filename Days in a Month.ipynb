{
 "cells": [
  {
   "cell_type": "code",
   "execution_count": null,
   "id": "f10a206e",
   "metadata": {},
   "outputs": [],
   "source": [
    "def is_leap(year):\n",
    "    if year % 4 == 0:\n",
    "        if year % 100 == 0:\n",
    "            if year % 400 == 0:\n",
    "                return True\n",
    "            else:\n",
    "                return False\n",
    "        else:\n",
    "            return True\n",
    "    else:\n",
    "        return False\n",
    "\n",
    "def days_in_month(year, month):\n",
    "    #if month > 12 and month < 1:\n",
    "        #return \"Invalid month\"\n",
    "    month_days = [31, 28, 31, 30, 31, 30, 31, 31, 30, 31, 30, 31]  \n",
    "    if is_leap(year) and month == 2:\n",
    "        return 29\n",
    "    return month_days[month-1]\n",
    "\n",
    "year = int(input(\"Enter a year: \"))\n",
    "month = int(input(\"Enter a month: \"))\n",
    "days = days_in_month(year, month)\n",
    "print(days)"
   ]
  }
 ],
 "metadata": {
  "kernelspec": {
   "display_name": "Python 3 (ipykernel)",
   "language": "python",
   "name": "python3"
  },
  "language_info": {
   "codemirror_mode": {
    "name": "ipython",
    "version": 3
   },
   "file_extension": ".py",
   "mimetype": "text/x-python",
   "name": "python",
   "nbconvert_exporter": "python",
   "pygments_lexer": "ipython3",
   "version": "3.10.7"
  }
 },
 "nbformat": 4,
 "nbformat_minor": 5
}
