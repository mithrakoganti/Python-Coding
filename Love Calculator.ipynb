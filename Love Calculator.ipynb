{
 "cells": [
  {
   "cell_type": "code",
   "execution_count": null,
   "id": "83a95ff7",
   "metadata": {},
   "outputs": [],
   "source": [
    "print(\"Welcome to the Love Calculator!\")\n",
    "name1 = input(\"What is your name? \\n\")\n",
    "name2 = input(\"What is their name? \\n\")\n",
    "\n",
    "combined_name  = name1 + name2\n",
    "lower_case_string = combined_name.lower()\n",
    "\n",
    "t = lower_case_string.count('t')\n",
    "r = lower_case_string.count('r')\n",
    "u = lower_case_string.count('u')\n",
    "e = lower_case_string.count('e')\n",
    "\n",
    "true = t+r+u+e\n",
    "\n",
    "l = lower_case_string.count('l')\n",
    "o = lower_case_string.count('o')\n",
    "v = lower_case_string.count('v')\n",
    "e = lower_case_string.count('e')\n",
    "\n",
    "love = l+o+v+e\n",
    "love_score = int(str(true) + str(love))\n",
    "\n",
    "if (love_score < 10) or (love_score > 90):\n",
    "    print(f'Your score is {love_score}, you go together like coke and mentos.')\n",
    "elif (love_score >= 40) and (love_score <= 50):\n",
    "    print(f'Your score is {love_score}, you are alright together.')\n",
    "else:\n",
    "    print(f'Your score is {love_score}.')\n"
   ]
  }
 ],
 "metadata": {
  "kernelspec": {
   "display_name": "Python 3 (ipykernel)",
   "language": "python",
   "name": "python3"
  },
  "language_info": {
   "codemirror_mode": {
    "name": "ipython",
    "version": 3
   },
   "file_extension": ".py",
   "mimetype": "text/x-python",
   "name": "python",
   "nbconvert_exporter": "python",
   "pygments_lexer": "ipython3",
   "version": "3.10.7"
  }
 },
 "nbformat": 4,
 "nbformat_minor": 5
}
